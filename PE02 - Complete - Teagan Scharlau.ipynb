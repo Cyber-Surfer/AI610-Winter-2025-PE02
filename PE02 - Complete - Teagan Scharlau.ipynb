{
 "cells": [
  {
   "cell_type": "markdown",
   "metadata": {},
   "source": [
    "### Students will develop a Python program where:\n",
    "#### You are tasked with exploring routes in a city’s road network. Each location is a node, and roads are edges between these nodes. Use DFS and BFS to simulate how routes are explored in a real-world setting.\n",
    "#### *Students must include meaningful comments in their code that explain key logic and decisions.\n"
   ]
  },
  {
   "cell_type": "code",
   "execution_count": 4,
   "metadata": {},
   "outputs": [
    {
     "name": "stdout",
     "output_type": "stream",
     "text": [
      "DFS Traversal (Routes Explored Deeply): ['Home', 'School', 'Library', 'Park', 'Cafe', 'Mall', 'Theater']\n",
      "BFS Traversal (Routes Explored Broadly): ['Home', 'School', 'Mall', 'Library', 'Park', 'Theater', 'Cafe']\n"
     ]
    }
   ],
   "source": [
    "from collections import deque\n",
    "\n",
    "# City map as a graph (adjacency list)\n",
    "city_map = {\n",
    "    \"Home\": [\"School\", \"Mall\"],\n",
    "    \"School\": [\"Library\", \"Park\"],\n",
    "    \"Mall\": [\"Theater\", \"Cafe\"],\n",
    "    \"Library\": [],\n",
    "    \"Park\": [\"Cafe\"],\n",
    "    \"Theater\": [],\n",
    "    \"Cafe\": []\n",
    "}\n",
    "# hint: Use a list as a stack\n",
    "def dfs(graph, start):\n",
    "    # Define Variables to default state and create stack variable\n",
    "    visited = set()\n",
    "    stack = [start]\n",
    "    route = []\n",
    "    \n",
    "    # Iterate through Stack \n",
    "    while stack:\n",
    "        # Pop off top item on stack\n",
    "        node = stack.pop()\n",
    "        # Check visited status, and then add and update visited\n",
    "        if node not in visited:\n",
    "            visited.add(node)\n",
    "\n",
    "            # Append current node to the route\n",
    "            route.append(node)\n",
    "\n",
    "            # Reverse order of route for correct traversal output\n",
    "            stack.extend(reversed(graph[node]))  \n",
    "    # Return the route\n",
    "    return route\n",
    "\n",
    "# Breadth First Search Algorythm \n",
    "def bfs(graph, start):\n",
    "    # Define Variables to default state and create queue variable\n",
    "    visited = set()\n",
    "    queue = deque([start])\n",
    "    route = []\n",
    "\n",
    "    # Iterate through nodes and build route\n",
    "    while queue:\n",
    "        node = queue.popleft()\n",
    "        # Check visited status, and then add and update visited\n",
    "        if node not in visited:\n",
    "            visited.add(node)\n",
    "\n",
    "            # Append current node to the route\n",
    "            route.append(node)\n",
    "\n",
    "            # Add the neighbors to the queue \n",
    "            queue.extend(graph[node]) \n",
    "    \n",
    "    # Return the completed route\n",
    "    return route\n",
    "\n",
    "\n",
    "# Test the algorithms\n",
    "start_location = \"Home\"\n",
    "print(\"DFS Traversal (Routes Explored Deeply):\", dfs(city_map, start_location))\n",
    "print(\"BFS Traversal (Routes Explored Broadly):\", bfs(city_map, start_location))"
   ]
  }
 ],
 "metadata": {
  "kernelspec": {
   "display_name": "Python 3",
   "language": "python",
   "name": "python3"
  },
  "language_info": {
   "codemirror_mode": {
    "name": "ipython",
    "version": 3
   },
   "file_extension": ".py",
   "mimetype": "text/x-python",
   "name": "python",
   "nbconvert_exporter": "python",
   "pygments_lexer": "ipython3",
   "version": "3.11.10"
  },
  "orig_nbformat": 4,
  "vscode": {
   "interpreter": {
    "hash": "0c94cc3f9b82ddff2c54bdb006e40a0c6072e5ba9b8b0279492486bbd32570f3"
   }
  }
 },
 "nbformat": 4,
 "nbformat_minor": 2
}
