{
 "cells": [
  {
   "cell_type": "markdown",
   "metadata": {},
   "source": [
    "### Students will develop a Python program where:\n",
    "#### You are tasked with exploring routes in a city’s road network. Each location is a node, and roads are edges between these nodes. Use DFS and BFS to simulate how routes are explored in a real-world setting.\n",
    "#### *Students must include meaningful comments in their code that explain key logic and decisions.\n"
   ]
  },
  {
   "cell_type": "code",
   "execution_count": null,
   "metadata": {},
   "outputs": [
    {
     "name": "stdout",
     "output_type": "stream",
     "text": [
      "DFS Traversal (Routes Explored Deeply): ['Home', 'School', 'Library', 'Park', 'Cafe', 'Mall', 'Theater']\n",
      "BFS Traversal (Routes Explored Broadly): ['Home', 'School', 'Mall', 'Library', 'Park', 'Theater', 'Cafe']\n"
     ]
    }
   ],
   "source": [
    "# City map as a graph (adjacency list)\n",
    "city_map = {\n",
    "    \"Home\": [\"School\", \"Mall\"],\n",
    "    \"School\": [\"Library\", \"Park\"],\n",
    "    \"Mall\": [\"Theater\", \"Cafe\"],\n",
    "    \"Library\": [],\n",
    "    \"Park\": [\"Cafe\"],\n",
    "    \"Theater\": [],\n",
    "    \"Cafe\": []\n",
    "}\n",
    "# hint: Use a list as a stack\n",
    "def dfs(graph, start):\n",
    "    \"\"\"Depth-First Search traversal\"\"\"\n",
    "\n",
    "# hint: Use a list as a queue\n",
    "def bfs(graph, start):\n",
    "    \"\"\"Breadth-First Search traversal\"\"\"\n",
    "\n",
    "\n",
    "# Test the algorithms\n",
    "start_location = \"Home\"\n",
    "print(\"DFS Traversal (Routes Explored Deeply):\", dfs(city_map, start_location))\n",
    "print(\"BFS Traversal (Routes Explored Broadly):\", bfs(city_map, start_location))"
   ]
  }
 ],
 "metadata": {
  "kernelspec": {
   "display_name": "Python 3",
   "language": "python",
   "name": "python3"
  },
  "language_info": {
   "codemirror_mode": {
    "name": "ipython",
    "version": 3
   },
   "file_extension": ".py",
   "mimetype": "text/x-python",
   "name": "python",
   "nbconvert_exporter": "python",
   "pygments_lexer": "ipython3",
   "version": "3.11.10"
  },
  "orig_nbformat": 4,
  "vscode": {
   "interpreter": {
    "hash": "0c94cc3f9b82ddff2c54bdb006e40a0c6072e5ba9b8b0279492486bbd32570f3"
   }
  }
 },
 "nbformat": 4,
 "nbformat_minor": 2
}
